{
  "nbformat": 4,
  "nbformat_minor": 0,
  "metadata": {
    "colab": {
      "provenance": [],
      "collapsed_sections": [],
      "include_colab_link": true
    },
    "kernelspec": {
      "name": "python3",
      "display_name": "Python 3"
    },
    "language_info": {
      "name": "python"
    },
    "accelerator": "GPU",
    "gpuClass": "standard"
  },
  "cells": [
    {
      "cell_type": "markdown",
      "source": [
        "<a href=\"https://colab.research.google.com/github/jkff-mv/stable-diffusion-text2img-example/blob/master/stable_diffusion_text2img_example.ipynb\" target=\"_parent\"><img src=\"https://colab.research.google.com/assets/colab-badge.svg\" alt=\"Open In Colab\"/></a>"
      ],
      "metadata": {
        "id": "view-in-github",
        "colab_type": "text"
      }
    },
    {
      "cell_type": "markdown",
      "source": [
        "# Stable Diffusionで画像を生成する"
      ],
      "metadata": {
        "id": "aQzbJVaCuacz"
      }
    },
    {
      "cell_type": "markdown",
      "source": [
        "## Overview\n",
        "\n",
        "Google Colaboratory上で [Stable Diffusion](https://github.com/CompVis/stable-diffusion) のtext2imgを動かすサンプルです。テキストからそれっぽい画像を生成します。"
      ],
      "metadata": {
        "id": "Pla7HvxtWDpm"
      }
    },
    {
      "cell_type": "markdown",
      "source": [
        "## Requirement\n",
        "\n",
        "[Hugging Face](https://huggingface.co/) へのユーザ登録が必要です。登録が完了したら以下の作業を実施ください。\n",
        "\n",
        "* [こちらのページ](https://huggingface.co/CompVis/stable-diffusion-v1-4) にアクセスし、Stable Diffusionのモデルの使用に同意する。\n",
        "* [こちらのページ](https://huggingface.co/settings/tokens) にアクセスし、Hugging Faceのアクセストークンを発行する。\n",
        "\n",
        "また以下のコードを実行し、GPUが割り当てられていることを確認ください。割り当てられていない場合「編集」→「ノートブックの設定」から割り当てが可能です。使用量の上限に引っかかって割り当てができない場合は時間をおいて再度お試しください。"
      ],
      "metadata": {
        "id": "-PS3tVFTWMOn"
      }
    },
    {
      "cell_type": "code",
      "source": [
        "!nvidia-smi -L"
      ],
      "metadata": {
        "id": "EYXEt7gcufut"
      },
      "execution_count": null,
      "outputs": []
    },
    {
      "cell_type": "markdown",
      "source": [
        "## Install\n",
        "\n",
        "必要な依存関係をインストールします。以下のコードを実行ください。"
      ],
      "metadata": {
        "id": "N2q5EmE4U3Tr"
      }
    },
    {
      "cell_type": "code",
      "source": [
        "!pip install --upgrade diffusers==0.2.4 transformers scipy ftfy"
      ],
      "metadata": {
        "id": "Bl9CS9f5U9hf"
      },
      "execution_count": null,
      "outputs": []
    },
    {
      "cell_type": "markdown",
      "source": [
        "## Setup\n",
        "\n",
        "Stable Diffusionのモデルのダウンロードやパイプラインの構築を行います。予め発行したHugging Faceのアクセストークンを `access_token` に設定し、以下のコードを実行ください。"
      ],
      "metadata": {
        "id": "DQgj-48YT9A5"
      }
    },
    {
      "cell_type": "code",
      "source": [
        "from diffusers import StableDiffusionPipeline\n",
        "\n",
        "# @title Settings\n",
        "access_token = \"your-access-token\"  # @param {type: \"string\"}\n",
        "\n",
        "pipe = StableDiffusionPipeline.from_pretrained(\n",
        "  \"CompVis/stable-diffusion-v1-4\",\n",
        "  use_auth_token=access_token\n",
        ").to(\"cuda\")"
      ],
      "metadata": {
        "id": "cavWyeIRgrMX",
        "cellView": "form"
      },
      "execution_count": null,
      "outputs": []
    },
    {
      "cell_type": "markdown",
      "source": [
        "## Run\n",
        "\n",
        "画像を生成します。生成したい画像の内容を `prompt` に記述し以下のコードを実行ください。\n",
        "\n",
        "`number_of_images` は生成する画像数です。より多くの画像を生成したい場合は変更ください。"
      ],
      "metadata": {
        "id": "_9LLtiEKb7MX"
      }
    },
    {
      "cell_type": "code",
      "source": [
        "from IPython.display import display_png, Image\n",
        "from torch import autocast\n",
        "\n",
        "# @title Parameters\n",
        "prompt = \"a description of the image\"  # @param {type: \"string\"}\n",
        "number_of_images = \"1\"  # @param [\"1\", \"2\", \"3\", \"4\", \"5\"]\n",
        "\n",
        "for i in range(int(number_of_images)):\n",
        "  with autocast(\"cuda\"):\n",
        "    image = pipe(prompt)[\"sample\"][0]\n",
        "\n",
        "  file_name = f\"image-{i:03}.png\"\n",
        "  image.save(file_name)\n",
        "\n",
        "  display_png(Image(file_name))"
      ],
      "metadata": {
        "id": "dSAS8Ne4cB4O",
        "cellView": "form"
      },
      "execution_count": null,
      "outputs": []
    },
    {
      "cell_type": "markdown",
      "source": [
        "## Run and Export Images to Google Drive\n",
        "\n",
        "画像を生成してGoogleドライブに保存します。"
      ],
      "metadata": {
        "id": "QjxiLqhy09xa"
      }
    },
    {
      "cell_type": "markdown",
      "source": [
        "Googleドライブをマウントします。以下のコードを実行ください。"
      ],
      "metadata": {
        "id": "LiGQ46B08yyr"
      }
    },
    {
      "cell_type": "code",
      "source": [
        "from google.colab import drive\n",
        "drive.mount(\"/content/drive\")"
      ],
      "metadata": {
        "id": "5Vc9LneC1NMa"
      },
      "execution_count": null,
      "outputs": []
    },
    {
      "cell_type": "markdown",
      "source": [
        "画像を生成します。生成したい画像の内容を `prompt` に記述し以下のコードを実行ください。\n",
        "\n",
        "`number_of_images` は生成する画像数です。必要に応じて調整ください。なお数が多すぎるとGoogle Colabのリソース制限に引っかかり、しばらくGPUが利用できなくなる恐れがあります。\n",
        "\n",
        "`drive_directory` は保存先ドライブのディレクトリです。例えばマイドライブの `output` 配下に画像を保存する場合 `/content/drive/MyDrive/output` のように記載ください。"
      ],
      "metadata": {
        "id": "TBw72F4z2bzW"
      }
    },
    {
      "cell_type": "code",
      "source": [
        "import datetime\n",
        "import os\n",
        "from torch import autocast\n",
        "\n",
        "# @title Parameters\n",
        "prompt = \"a description of the image\"  # @param {type: \"string\"}\n",
        "number_of_images = 10  # @param {type:\"slider\", min:1, max:100, step:1}\n",
        "drive_directory = \"/content/drive/MyDrive/output\"  # @param {type: \"string\"}\n",
        "\n",
        "os.makedirs(drive_directory, exist_ok=True)\n",
        "\n",
        "yyyymmddhhmmss = datetime.datetime.now().strftime(\"%Y%m%d%H%M%S\")\n",
        "\n",
        "for i in range(number_of_images):\n",
        "  with autocast(\"cuda\"):\n",
        "    image = pipe(prompt)[\"sample\"][0]\n",
        "\n",
        "  file_path = os.path.join(drive_directory, f\"image-{yyyymmddhhmmss}-{i:03}.png\")  \n",
        "  image.save(file_path)"
      ],
      "metadata": {
        "id": "e9JT_hzA32q7",
        "cellView": "form"
      },
      "execution_count": null,
      "outputs": []
    },
    {
      "cell_type": "markdown",
      "source": [
        "ドライブのマウントを解除します。以下のコードを実行ください。"
      ],
      "metadata": {
        "id": "LzRwZU_H7ZtB"
      }
    },
    {
      "cell_type": "code",
      "source": [
        "drive.flush_and_unmount()"
      ],
      "metadata": {
        "id": "6lvJAmZ05it_"
      },
      "execution_count": null,
      "outputs": []
    }
  ]
}